{
 "cells": [
  {
   "cell_type": "markdown",
   "metadata": {},
   "source": [
    "# Live Code 2\n",
    "- Muhammad Nafisa Fakhri\n",
    "- FTDS Batch 013"
   ]
  },
  {
   "cell_type": "markdown",
   "metadata": {},
   "source": [
    "## Problem 1"
   ]
  },
  {
   "cell_type": "markdown",
   "metadata": {},
   "source": [
    "Kamu sedang mencari rumah dan akan memilih satu dari dua pilihan rumah dengan harga yang cukup berbeda. Sekilas, kedua rumah sama karakteristiknya, namun kamu ingin memastikan kembali apakah rumah yang lebih mahal patut dibeli atau tidak. Berikut data kedua rumah:"
   ]
  },
  {
   "cell_type": "code",
   "execution_count": 3,
   "metadata": {},
   "outputs": [],
   "source": [
    "import numpy as np"
   ]
  },
  {
   "cell_type": "code",
   "execution_count": 4,
   "metadata": {},
   "outputs": [
    {
     "name": "stdout",
     "output_type": "stream",
     "text": [
      "[100 240   1   1   1   0   1   1]\n",
      "[120 200   1   1   1   1   1   1]\n"
     ]
    }
   ],
   "source": [
    "rumah_1 = np.array([100,240,1,1,1,0,1,1])\n",
    "rumah_2 = np.array([120,200,1,1,1,1,1,1])\n",
    "print(rumah_1)\n",
    "print(rumah_2)"
   ]
  },
  {
   "cell_type": "markdown",
   "metadata": {},
   "source": [
    "Perhitungan nilai cosine similarity"
   ]
  },
  {
   "cell_type": "code",
   "execution_count": 5,
   "metadata": {},
   "outputs": [
    {
     "data": {
      "text/plain": [
       "0.9894062123807504"
      ]
     },
     "execution_count": 5,
     "metadata": {},
     "output_type": "execute_result"
    }
   ],
   "source": [
    "cosine_sim = (rumah_1@rumah_2)/(np.linalg.norm(rumah_1)*np.linalg.norm(rumah_2))\n",
    "cosine_sim"
   ]
  },
  {
   "cell_type": "markdown",
   "metadata": {},
   "source": [
    "### Pertanyaan Analisis"
   ]
  },
  {
   "cell_type": "markdown",
   "metadata": {},
   "source": [
    "1. Apakah kedua rumah mirip? jika iya, mengapa dan jika tidak, mengapa (jawab berdasarkan hasil perhitungan cosine similaritynya)? Dan keputusan yang akhirnya kamu pilih, rumah 1 atau rumah 2? apa pertimbangannya?\n",
    "- Berdasarkan nilai cosine simmilarity, kedua rumah tersebut mirip dikarenakan nilai dari cosine similarity dari kedua rumah tersebut mendekati nilai 1 (0.9894062123807504). Keputusan yang diambil adalah untuk membeli rumah 2 dikarenakan di setiap kolom terdapat nilai yang mengartikan fasilitas dari rumah tersebut lengkap, dan jika ditinjau dari harga, harga yang termurah terdapat pada rumah 2."
   ]
  },
  {
   "cell_type": "markdown",
   "metadata": {},
   "source": [
    "2. Jika meninjau dua buah vektor dan dihitung cosine similaritynya (cos theta), jelaskan secara singkat, jelas, padat apa makna cosine similarity yang bernilai 0 dan 1 (tinjau dari posisi dua vektor di koordinat kartesian)?\n",
    "- cosine similarity merupakan nilai dari cosinus yang terbentuk antara vektor 1 dan vektor 2. Jika nilai dari cosinus mendekati nilai 1, maka mengartikan bahwa sudut antara vektor 1 dan vektor 2 semakin kecil. Jika sudut yang terbentuk semakin kecil bahwa vektor 1 dan vektor 2 akan semakin mirip, dikarenakan konsep cosinus adalah nilai dari bayangan yang terbentuk dari suatu vektor."
   ]
  },
  {
   "cell_type": "markdown",
   "metadata": {},
   "source": [
    "3. Mengapa cosine similarity harus melibatkan vektor bukan matriks?\n",
    "- Karena cosine similarity hanya bisa terbentuk dari vektor, dalam artian bahwa vektor adalah sesuatu yang memiliki nilai dan arah. sementara matrix hanya mempunyai nilai saja."
   ]
  },
  {
   "cell_type": "markdown",
   "metadata": {},
   "source": [
    "## Problem 2"
   ]
  },
  {
   "cell_type": "markdown",
   "metadata": {},
   "source": [
    "Pengambilan data daerah North Dakota dari data geo_us_boundaries dengan menggunakan SQL"
   ]
  },
  {
   "cell_type": "markdown",
   "metadata": {},
   "source": [
    "Syntax SQL : \n",
    "```\n",
    "SELECT * \n",
    "FROM `bigquery-public-data.geo_us_boundaries.states` \n",
    "WHERE state_name = \"North Dakota\";\n",
    "```"
   ]
  },
  {
   "cell_type": "code",
   "execution_count": 18,
   "metadata": {},
   "outputs": [],
   "source": [
    "import pandas as pd\n",
    "from scipy import integrate\n",
    "from scipy.integrate import trapz\n",
    "import re\n",
    "import matplotlib.pyplot as plt"
   ]
  },
  {
   "cell_type": "code",
   "execution_count": 8,
   "metadata": {},
   "outputs": [
    {
     "data": {
      "text/html": [
       "<div>\n",
       "<style scoped>\n",
       "    .dataframe tbody tr th:only-of-type {\n",
       "        vertical-align: middle;\n",
       "    }\n",
       "\n",
       "    .dataframe tbody tr th {\n",
       "        vertical-align: top;\n",
       "    }\n",
       "\n",
       "    .dataframe thead th {\n",
       "        text-align: right;\n",
       "    }\n",
       "</style>\n",
       "<table border=\"1\" class=\"dataframe\">\n",
       "  <thead>\n",
       "    <tr style=\"text-align: right;\">\n",
       "      <th></th>\n",
       "      <th>geo_id</th>\n",
       "      <th>region_code</th>\n",
       "      <th>division_code</th>\n",
       "      <th>state_fips_code</th>\n",
       "      <th>state_gnis_code</th>\n",
       "      <th>state</th>\n",
       "      <th>state_name</th>\n",
       "      <th>lsad_code</th>\n",
       "      <th>mtfcc_feature_class_code</th>\n",
       "      <th>functional_status</th>\n",
       "      <th>area_land_meters</th>\n",
       "      <th>area_water_meters</th>\n",
       "      <th>int_point_lat</th>\n",
       "      <th>int_point_lon</th>\n",
       "      <th>int_point_geom</th>\n",
       "      <th>state_geom</th>\n",
       "    </tr>\n",
       "  </thead>\n",
       "  <tbody>\n",
       "    <tr>\n",
       "      <th>0</th>\n",
       "      <td>38</td>\n",
       "      <td>2</td>\n",
       "      <td>4</td>\n",
       "      <td>38</td>\n",
       "      <td>1779797</td>\n",
       "      <td>ND</td>\n",
       "      <td>North Dakota</td>\n",
       "      <td>0</td>\n",
       "      <td>G4000</td>\n",
       "      <td>A</td>\n",
       "      <td>178695635183</td>\n",
       "      <td>4411365971</td>\n",
       "      <td>47.442174</td>\n",
       "      <td>-100.460826</td>\n",
       "      <td>POINT(-100.4608258 47.442174)</td>\n",
       "      <td>POLYGON((-104.044968 47.330141, -104.044967 47...</td>\n",
       "    </tr>\n",
       "  </tbody>\n",
       "</table>\n",
       "</div>"
      ],
      "text/plain": [
       "   geo_id  region_code  division_code  state_fips_code  state_gnis_code state  \\\n",
       "0      38            2              4               38          1779797    ND   \n",
       "\n",
       "     state_name  lsad_code mtfcc_feature_class_code functional_status  \\\n",
       "0  North Dakota          0                    G4000                 A   \n",
       "\n",
       "   area_land_meters  area_water_meters  int_point_lat  int_point_lon  \\\n",
       "0      178695635183         4411365971      47.442174    -100.460826   \n",
       "\n",
       "                  int_point_geom  \\\n",
       "0  POINT(-100.4608258 47.442174)   \n",
       "\n",
       "                                          state_geom  \n",
       "0  POLYGON((-104.044968 47.330141, -104.044967 47...  "
      ]
     },
     "execution_count": 8,
     "metadata": {},
     "output_type": "execute_result"
    }
   ],
   "source": [
    "# Loading data\n",
    "data_mentah = pd.read_csv(\"h8dsft_P0LC2_mnfakhri.csv.csv\")\n",
    "data_mentah"
   ]
  },
  {
   "cell_type": "markdown",
   "metadata": {},
   "source": [
    "Pengolahan data mentah untuk mendapatkan nilai koordinat longitude dan latitude dari wilayah North Dakota"
   ]
  },
  {
   "cell_type": "code",
   "execution_count": 22,
   "metadata": {},
   "outputs": [],
   "source": [
    "def data_preprocess(data_mentah):\n",
    "   long = []\n",
    "   lat = []\n",
    "   for row in data_mentah[\"state_geom\"][0].split(\", \"):\n",
    "     row = re.sub(\"MULTIPOLYGON\",\"\",row)\n",
    "     row = re.sub(\"POLYGON\",\"\",row)\n",
    "     row = re.sub(r\"\\(\",\"\",row)\n",
    "     row = re.sub(r\"\\)\",\"\",row)\n",
    "     long.append(float(row.split(\" \")[0]))\n",
    "     lat.append(float(row.split(\" \")[1]))\n",
    "   return pd.DataFrame({\"long\":long,\"lat\":lat}).sort_values(\"long\",ascending=True)"
   ]
  },
  {
   "cell_type": "code",
   "execution_count": 27,
   "metadata": {},
   "outputs": [
    {
     "data": {
      "text/html": [
       "<div>\n",
       "<style scoped>\n",
       "    .dataframe tbody tr th:only-of-type {\n",
       "        vertical-align: middle;\n",
       "    }\n",
       "\n",
       "    .dataframe tbody tr th {\n",
       "        vertical-align: top;\n",
       "    }\n",
       "\n",
       "    .dataframe thead th {\n",
       "        text-align: right;\n",
       "    }\n",
       "</style>\n",
       "<table border=\"1\" class=\"dataframe\">\n",
       "  <thead>\n",
       "    <tr style=\"text-align: right;\">\n",
       "      <th></th>\n",
       "      <th>long</th>\n",
       "      <th>lat</th>\n",
       "    </tr>\n",
       "  </thead>\n",
       "  <tbody>\n",
       "    <tr>\n",
       "      <th>31375</th>\n",
       "      <td>-104.049012</td>\n",
       "      <td>48.932658</td>\n",
       "    </tr>\n",
       "    <tr>\n",
       "      <th>31373</th>\n",
       "      <td>-104.049009</td>\n",
       "      <td>48.933599</td>\n",
       "    </tr>\n",
       "    <tr>\n",
       "      <th>31374</th>\n",
       "      <td>-104.049004</td>\n",
       "      <td>48.933072</td>\n",
       "    </tr>\n",
       "    <tr>\n",
       "      <th>31401</th>\n",
       "      <td>-104.048992</td>\n",
       "      <td>48.917648</td>\n",
       "    </tr>\n",
       "    <tr>\n",
       "      <th>31402</th>\n",
       "      <td>-104.048990</td>\n",
       "      <td>48.917458</td>\n",
       "    </tr>\n",
       "    <tr>\n",
       "      <th>...</th>\n",
       "      <td>...</td>\n",
       "      <td>...</td>\n",
       "    </tr>\n",
       "    <tr>\n",
       "      <th>4641</th>\n",
       "      <td>-96.554447</td>\n",
       "      <td>46.083757</td>\n",
       "    </tr>\n",
       "    <tr>\n",
       "      <th>4645</th>\n",
       "      <td>-96.554436</td>\n",
       "      <td>46.084186</td>\n",
       "    </tr>\n",
       "    <tr>\n",
       "      <th>4642</th>\n",
       "      <td>-96.554424</td>\n",
       "      <td>46.083827</td>\n",
       "    </tr>\n",
       "    <tr>\n",
       "      <th>4643</th>\n",
       "      <td>-96.554416</td>\n",
       "      <td>46.083899</td>\n",
       "    </tr>\n",
       "    <tr>\n",
       "      <th>4644</th>\n",
       "      <td>-96.554411</td>\n",
       "      <td>46.084079</td>\n",
       "    </tr>\n",
       "  </tbody>\n",
       "</table>\n",
       "<p>32467 rows × 2 columns</p>\n",
       "</div>"
      ],
      "text/plain": [
       "             long        lat\n",
       "31375 -104.049012  48.932658\n",
       "31373 -104.049009  48.933599\n",
       "31374 -104.049004  48.933072\n",
       "31401 -104.048992  48.917648\n",
       "31402 -104.048990  48.917458\n",
       "...           ...        ...\n",
       "4641   -96.554447  46.083757\n",
       "4645   -96.554436  46.084186\n",
       "4642   -96.554424  46.083827\n",
       "4643   -96.554416  46.083899\n",
       "4644   -96.554411  46.084079\n",
       "\n",
       "[32467 rows x 2 columns]"
      ]
     },
     "execution_count": 27,
     "metadata": {},
     "output_type": "execute_result"
    }
   ],
   "source": [
    "koor_dakota = data_preprocess(data_mentah)\n",
    "koor_dakota"
   ]
  },
  {
   "cell_type": "code",
   "execution_count": 29,
   "metadata": {},
   "outputs": [
    {
     "data": {
      "text/plain": [
       "[<matplotlib.lines.Line2D at 0x182833bbeb0>]"
      ]
     },
     "execution_count": 29,
     "metadata": {},
     "output_type": "execute_result"
    },
    {
     "data": {
      "image/png": "[encoded data removed]",
      "text/plain": [
       "<Figure size 432x288 with 1 Axes>"
      ]
     },
     "metadata": {
      "needs_background": "light"
     },
     "output_type": "display_data"
    }
   ],
   "source": [
    "plt.plot(koor_dakota.long,koor_dakota.lat)"
   ]
  },
  {
   "cell_type": "markdown",
   "metadata": {},
   "source": [
    "Mencari batas untuk menentukan daerah utara dan selatan Dakota"
   ]
  },
  {
   "cell_type": "code",
   "execution_count": 30,
   "metadata": {},
   "outputs": [
    {
     "data": {
      "text/plain": [
       "47.261749"
      ]
     },
     "execution_count": 30,
     "metadata": {},
     "output_type": "execute_result"
    }
   ],
   "source": [
    "median_lat = koor_dakota.lat.median()\n",
    "median_lat"
   ]
  },
  {
   "cell_type": "markdown",
   "metadata": {},
   "source": [
    "Perhitungan luas daerah utara Dakota dan daerah selatan Dakota"
   ]
  },
  {
   "cell_type": "code",
   "execution_count": 33,
   "metadata": {},
   "outputs": [
    {
     "name": "stdout",
     "output_type": "stream",
     "text": [
      "353.4146307006304\n",
      "344.38970468807264\n"
     ]
    }
   ],
   "source": [
    "area_utara = koor_dakota[koor_dakota.lat > median_lat]\n",
    "area_selatan = koor_dakota[koor_dakota.lat <= median_lat]\n",
    "\n",
    "luas_area_utara = trapz(area_utara.lat, area_utara.long)\n",
    "luas_area_selatan = trapz(area_selatan.lat, area_selatan.long)\n",
    "\n",
    "print(luas_area_utara)\n",
    "print(luas_area_selatan)"
   ]
  },
  {
   "cell_type": "markdown",
   "metadata": {},
   "source": [
    "Perhitungan luas daerah Dakota"
   ]
  },
  {
   "cell_type": "code",
   "execution_count": 34,
   "metadata": {},
   "outputs": [
    {
     "data": {
      "text/plain": [
       "9.024926012557785"
      ]
     },
     "execution_count": 34,
     "metadata": {},
     "output_type": "execute_result"
    }
   ],
   "source": [
    "luas_dakota = luas_area_utara - luas_area_selatan\n",
    "luas_dakota"
   ]
  },
  {
   "cell_type": "markdown",
   "metadata": {},
   "source": [
    "Visualisasi dari daerah North Dakota dengan batas dari nilai median latitude"
   ]
  },
  {
   "cell_type": "code",
   "execution_count": 36,
   "metadata": {},
   "outputs": [
    {
     "data": {
      "text/plain": [
       "<matplotlib.lines.Line2D at 0x1828536fee0>"
      ]
     },
     "execution_count": 36,
     "metadata": {},
     "output_type": "execute_result"
    },
    {
     "data": {
      "image/png": "[encoded data removed]",
      "text/plain": [
       "<Figure size 432x288 with 1 Axes>"
      ]
     },
     "metadata": {
      "needs_background": "light"
     },
     "output_type": "display_data"
    }
   ],
   "source": [
    "plt.plot(area_utara.long , area_utara.lat)\n",
    "plt.plot(area_selatan.long , area_selatan.lat)\n",
    "plt.axhline(median_lat)"
   ]
  },
  {
   "cell_type": "markdown",
   "metadata": {},
   "source": [
    "### Pertanyaan Analisis"
   ]
  },
  {
   "cell_type": "markdown",
   "metadata": {},
   "source": [
    "1. Integral jenis apa yang diterapkan pada kasus ini? (Tertentu/Tak tentu) dan mengapa demikian? berikan alasan!\n",
    "- Integral yang digunakan dalam studi kasus ini adalah integral tertentu yang merupakan jenis integral yang memiliki nilai batas atas dan batas bawah. dalam studi kasus ini kita ingin menghitung luas suatu daerah yang dimana terdapat batas dalam perhitungan daerah tersebut, yaitu batas luar dari daerah. maka dari itu integral yang digunakan dalam kasus ini adalah integral terentu dengan batas."
   ]
  },
  {
   "cell_type": "markdown",
   "metadata": {},
   "source": [
    "2. Untuk kasus ini, metode apa yang kamu pakai dalam perhitungan integral? secara simbolik atau numerik, dan mengapa?\n",
    "- Dalam kasus ini metode yang digunakan untuk perhitungan integral adalah integral secara numerik. Hal ini dikarenakan untuk penghitung luas suatu daerah, diperlukan nilai-nilai batas yang dimana berupa numerik, sehingga metode integral yang digunakan adalah integral numerik."
   ]
  },
  {
   "cell_type": "markdown",
   "metadata": {},
   "source": [
    "3. Library Scipy menyediakan banyak function/modul untuk menghitung integral. Function apa yang kamu gunakan dan berikan alasan yang logis!\n",
    "- Libary scipy yang digunakan untuk studi kasus ini adalah menggunakan integrate trapezoid, karena untuk perhitungan luas daerah itu dengan cara menggunakan integral (fungsi integrate) dan bentuk yang dihasilkan dari daerah tersebut menyerupai trapesium (fungsi trapezoid), maka dalam kasus ini menggunakan libary scipy integrate trapezoid."
   ]
  }
 ],
 "metadata": {
  "kernelspec": {
   "display_name": "Python 3.9.12 ('base')",
   "language": "python",
   "name": "python3"
  },
  "language_info": {
   "codemirror_mode": {
    "name": "ipython",
    "version": 3
   },
   "file_extension": ".py",
   "mimetype": "text/x-python",
   "name": "python",
   "nbconvert_exporter": "python",
   "pygments_lexer": "ipython3",
   "version": "3.9.12"
  },
  "orig_nbformat": 4,
  "vscode": {
   "interpreter": {
    "hash": "a90aeebcf29d64a654773811cc170cb25061cb2498f10ac689db374c7bf325de"
   }
  }
 },
 "nbformat": 4,
 "nbformat_minor": 2
}
