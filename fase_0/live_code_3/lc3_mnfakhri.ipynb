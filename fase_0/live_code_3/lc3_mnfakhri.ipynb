{
 "cells": [
  {
   "cell_type": "markdown",
   "metadata": {},
   "source": [
    "# Live Code 3\n",
    "- Muhammad Nafisa Fakhri\n",
    "- FTDS Batch 013"
   ]
  },
  {
   "cell_type": "markdown",
   "metadata": {},
   "source": [
    "Kamu adalah seorang data scientist di jasa transportasi. Manajemen meminta bantuanmu untuk mengonfirmasi dugaan yang mereka temukan berkaitan adanya nilai tidak wajar pada biaya layanan ekstra yang dibebankan kepada pelanggan. Bantu tim manajemen memvalidasi hal tersebut."
   ]
  },
  {
   "cell_type": "markdown",
   "metadata": {},
   "source": [
    "SQL query code: \n",
    "```\n",
    "SELECT extras\n",
    "FROM `bigquery-public-data.chicago_taxi_trips.taxi_trips`\n",
    "WHERE extras > 0\n",
    "LIMIT 1000\n",
    "```"
   ]
  },
  {
   "cell_type": "code",
   "execution_count": 1,
   "metadata": {},
   "outputs": [],
   "source": [
    "import pandas as pd\n",
    "import numpy as np\n",
    "import matplotlib.pyplot as plt\n",
    "import seaborn as sns\n",
    "from scipy import stats"
   ]
  },
  {
   "cell_type": "markdown",
   "metadata": {},
   "source": [
    "Data Loading dan Data Exploration"
   ]
  },
  {
   "cell_type": "code",
   "execution_count": 2,
   "metadata": {},
   "outputs": [
    {
     "data": {
      "text/html": [
       "<div>\n",
       "<style scoped>\n",
       "    .dataframe tbody tr th:only-of-type {\n",
       "        vertical-align: middle;\n",
       "    }\n",
       "\n",
       "    .dataframe tbody tr th {\n",
       "        vertical-align: top;\n",
       "    }\n",
       "\n",
       "    .dataframe thead th {\n",
       "        text-align: right;\n",
       "    }\n",
       "</style>\n",
       "<table border=\"1\" class=\"dataframe\">\n",
       "  <thead>\n",
       "    <tr style=\"text-align: right;\">\n",
       "      <th></th>\n",
       "      <th>extras</th>\n",
       "    </tr>\n",
       "  </thead>\n",
       "  <tbody>\n",
       "    <tr>\n",
       "      <th>0</th>\n",
       "      <td>1.0</td>\n",
       "    </tr>\n",
       "    <tr>\n",
       "      <th>1</th>\n",
       "      <td>13.0</td>\n",
       "    </tr>\n",
       "    <tr>\n",
       "      <th>2</th>\n",
       "      <td>1.5</td>\n",
       "    </tr>\n",
       "    <tr>\n",
       "      <th>3</th>\n",
       "      <td>1.5</td>\n",
       "    </tr>\n",
       "    <tr>\n",
       "      <th>4</th>\n",
       "      <td>2.0</td>\n",
       "    </tr>\n",
       "  </tbody>\n",
       "</table>\n",
       "</div>"
      ],
      "text/plain": [
       "   extras\n",
       "0     1.0\n",
       "1    13.0\n",
       "2     1.5\n",
       "3     1.5\n",
       "4     2.0"
      ]
     },
     "execution_count": 2,
     "metadata": {},
     "output_type": "execute_result"
    }
   ],
   "source": [
    "data_mentah = pd.read_csv(\"h8dsft_P0LC3_mnfakhri.csv.csv\")\n",
    "data_mentah.head()"
   ]
  },
  {
   "cell_type": "code",
   "execution_count": 3,
   "metadata": {},
   "outputs": [
    {
     "data": {
      "text/html": [
       "<div>\n",
       "<style scoped>\n",
       "    .dataframe tbody tr th:only-of-type {\n",
       "        vertical-align: middle;\n",
       "    }\n",
       "\n",
       "    .dataframe tbody tr th {\n",
       "        vertical-align: top;\n",
       "    }\n",
       "\n",
       "    .dataframe thead th {\n",
       "        text-align: right;\n",
       "    }\n",
       "</style>\n",
       "<table border=\"1\" class=\"dataframe\">\n",
       "  <thead>\n",
       "    <tr style=\"text-align: right;\">\n",
       "      <th></th>\n",
       "      <th>extras</th>\n",
       "    </tr>\n",
       "  </thead>\n",
       "  <tbody>\n",
       "    <tr>\n",
       "      <th>995</th>\n",
       "      <td>3.5</td>\n",
       "    </tr>\n",
       "    <tr>\n",
       "      <th>996</th>\n",
       "      <td>3.0</td>\n",
       "    </tr>\n",
       "    <tr>\n",
       "      <th>997</th>\n",
       "      <td>6.0</td>\n",
       "    </tr>\n",
       "    <tr>\n",
       "      <th>998</th>\n",
       "      <td>3.0</td>\n",
       "    </tr>\n",
       "    <tr>\n",
       "      <th>999</th>\n",
       "      <td>7.5</td>\n",
       "    </tr>\n",
       "  </tbody>\n",
       "</table>\n",
       "</div>"
      ],
      "text/plain": [
       "     extras\n",
       "995     3.5\n",
       "996     3.0\n",
       "997     6.0\n",
       "998     3.0\n",
       "999     7.5"
      ]
     },
     "execution_count": 3,
     "metadata": {},
     "output_type": "execute_result"
    }
   ],
   "source": [
    "data_mentah.tail()"
   ]
  },
  {
   "cell_type": "code",
   "execution_count": 4,
   "metadata": {},
   "outputs": [
    {
     "data": {
      "text/plain": [
       "(1000, 1)"
      ]
     },
     "execution_count": 4,
     "metadata": {},
     "output_type": "execute_result"
    }
   ],
   "source": [
    "data_mentah.shape"
   ]
  },
  {
   "cell_type": "code",
   "execution_count": 5,
   "metadata": {},
   "outputs": [
    {
     "name": "stdout",
     "output_type": "stream",
     "text": [
      "<class 'pandas.core.frame.DataFrame'>\n",
      "RangeIndex: 1000 entries, 0 to 999\n",
      "Data columns (total 1 columns):\n",
      " #   Column  Non-Null Count  Dtype  \n",
      "---  ------  --------------  -----  \n",
      " 0   extras  1000 non-null   float64\n",
      "dtypes: float64(1)\n",
      "memory usage: 7.9 KB\n"
     ]
    }
   ],
   "source": [
    "data_mentah.info()"
   ]
  },
  {
   "cell_type": "code",
   "execution_count": 6,
   "metadata": {},
   "outputs": [
    {
     "data": {
      "text/plain": [
       "0       1.0\n",
       "1      13.0\n",
       "2       1.5\n",
       "3       1.5\n",
       "4       2.0\n",
       "       ... \n",
       "995     3.5\n",
       "996     3.0\n",
       "997     6.0\n",
       "998     3.0\n",
       "999     7.5\n",
       "Name: extras, Length: 1000, dtype: float64"
      ]
     },
     "execution_count": 6,
     "metadata": {},
     "output_type": "execute_result"
    }
   ],
   "source": [
    "data_extras = data_mentah[\"extras\"]\n",
    "data_extras"
   ]
  },
  {
   "cell_type": "markdown",
   "metadata": {},
   "source": [
    "Berdasarkan hasil eksplorasi data tidak terdapat missing value dalam data tersebut, sehingga tidak diperlukan celaning data dalam kasus ini."
   ]
  },
  {
   "cell_type": "markdown",
   "metadata": {},
   "source": [
    "- Perhitungan nilai central of tendency"
   ]
  },
  {
   "cell_type": "code",
   "execution_count": 7,
   "metadata": {},
   "outputs": [
    {
     "name": "stdout",
     "output_type": "stream",
     "text": [
      "Nilai dari rata-rata data adalah: 5.5555\n",
      "Nilai dari median data adalah: 2.5\n",
      "Nilai dari modus data adalah: 1.0\n",
      "Nilai dari standar deviasi data adalah: 7.899814986873238\n",
      "Nilai dari variansi data adalah: 62.40707682682702\n",
      "Nilai dari range data adalah: 99.0\n"
     ]
    }
   ],
   "source": [
    "print(\"Nilai dari rata-rata data adalah:\",data_extras.mean())\n",
    "print(\"Nilai dari median data adalah:\",data_extras.median())\n",
    "print(\"Nilai dari modus data adalah:\",data_extras.mode()[0])\n",
    "print(\"Nilai dari standar deviasi data adalah:\",data_extras.std())\n",
    "print(\"Nilai dari variansi data adalah:\",data_extras.var())\n",
    "print(\"Nilai dari range data adalah:\",data_extras.max() - data_extras.min())"
   ]
  },
  {
   "cell_type": "markdown",
   "metadata": {},
   "source": [
    "- Nilai dari rata-rata data adalah 5.5555\n",
    "- Nilai dari median data adalah 2.5\n",
    "- Nilai dari modus data adalah 1.0\n",
    "- Nilai dari standar deviasi data adalah 7.899814986873238\n",
    "- Nilai dari variansi data adalah 62.40707682682702\n",
    "- Nilai dari range data adalah 99.0\n",
    "\n",
    "Berdasarkan hasil perhitungan central of tendency diperoleh bahwa nilai rata-rata, median, modus memiliki nilai berbeda. Hal ini menunjukan bahwa data tersebut memiliki karakteristik persebaran nilai data yang bervariasi dan tidak terpusat. Hal ini bisa dilihat juga dari nilai dari standar deviasi yang lebih tinggi dari rata-rata."
   ]
  },
  {
   "cell_type": "markdown",
   "metadata": {},
   "source": [
    "- Mari kita lihat skewness dan kurtosis dari data tersebut."
   ]
  },
  {
   "cell_type": "code",
   "execution_count": 8,
   "metadata": {},
   "outputs": [
    {
     "name": "stdout",
     "output_type": "stream",
     "text": [
      "Nilai dari Skewness data adalah: 4.767407981483202\n",
      "Nilai dari Kurtosis data adalah: 42.2692454179528\n"
     ]
    },
    {
     "data": {
      "text/plain": [
       "<matplotlib.legend.Legend at 0x2a0fae71040>"
      ]
     },
     "execution_count": 8,
     "metadata": {},
     "output_type": "execute_result"
    },
    {
     "data": {
      "image/png": "[encoded data removed]",
      "text/plain": [
       "<Figure size 1080x432 with 1 Axes>"
      ]
     },
     "metadata": {
      "needs_background": "light"
     },
     "output_type": "display_data"
    }
   ],
   "source": [
    "print(\"Nilai dari Skewness data adalah:\",data_extras.skew())\n",
    "print(\"Nilai dari Kurtosis data adalah:\",data_extras.kurt())\n",
    "plt.figure(figsize=(15,6))\n",
    "sns.histplot(data_extras,kde=True,label=\"Persebaran Data Taxi Trips Extras\",color=\"blue\")\n",
    "plt.legend()"
   ]
  },
  {
   "cell_type": "markdown",
   "metadata": {},
   "source": [
    "- Berdasarkan perhitungan diatas diperoleh nilai dari skewness sebesar 4.767407981483202 yang mengartikan bahwa data tersebut berjenis right skew karena bernilai positif dan nilai kurtosis sebesar 42.2692454179528 yang memiliki arti memiliki keruncingan grafik yang sangat runcing.\n",
    "\n",
    "- Bersadarkan dari nilai skewness dan kurtosis dan melihat dari bentuk grafik, data tersebut tidak berdistribusi normal dikarenakan bentuk grafik data tersebut tidak menyerupai lonceng dalam artian bahwa persebaran data tersebut tidak terpusat di tengah."
   ]
  },
  {
   "cell_type": "markdown",
   "metadata": {},
   "source": [
    "- Berdasarkan dari nilai skewness, mean, mediaan dan modus serta melihat dari grafik persebaran data diperoleh informasi bahwa data tersebut tidak berdistribusi normal. Maka perhitungan extreme value analysis disini menggunakan metode EVA untuk data skew atau tidak berdistribusi normal."
   ]
  },
  {
   "cell_type": "code",
   "execution_count": 9,
   "metadata": {},
   "outputs": [
    {
     "data": {
      "text/plain": [
       "<AxesSubplot:title={'center':'Box plot Data Extras'}>"
      ]
     },
     "execution_count": 9,
     "metadata": {},
     "output_type": "execute_result"
    },
    {
     "data": {
      "image/png": "[encoded data removed]",
      "text/plain": [
       "<Figure size 720x720 with 1 Axes>"
      ]
     },
     "metadata": {
      "needs_background": "light"
     },
     "output_type": "display_data"
    }
   ],
   "source": [
    "plt.figure(figsize=(10,10))\n",
    "data_extras.plot(kind=\"box\",title=\"Box plot Data Extras\")"
   ]
  },
  {
   "cell_type": "markdown",
   "metadata": {},
   "source": [
    "Berdasarkan hasil grafik boxplot diperoleh informasi bahwa terdapat data yang berada diluar batas (data outlier). Maka dari itu diperlukan pembersihan data yang diluar outlier agar data tersebut bisa olah lebih lanjut."
   ]
  },
  {
   "cell_type": "code",
   "execution_count": 10,
   "metadata": {},
   "outputs": [],
   "source": [
    "data_bersih = []"
   ]
  },
  {
   "cell_type": "code",
   "execution_count": 11,
   "metadata": {},
   "outputs": [],
   "source": [
    "data_bersih = data_mentah[\"extras\"]"
   ]
  },
  {
   "cell_type": "code",
   "execution_count": 12,
   "metadata": {},
   "outputs": [],
   "source": [
    "iqr_data = data_bersih.quantile([0.75])[0.75] - data_bersih.quantile([0.25])[0.25]\n",
    "batas_atas = data_bersih.quantile([0.75])[0.75] + 1.5*iqr_data\n",
    "batas_bawah = data_bersih.quantile([0.25])[0.25] - 1.5*iqr_data\n",
    "for a in range(0,len(data_bersih)):\n",
    "    if data_bersih[a] > batas_atas or data_bersih[a] < batas_bawah:\n",
    "        del data_bersih[a]\n",
    "    else:\n",
    "        continue\n",
    "data_bersih.reset_index(drop=True,inplace=True)"
   ]
  },
  {
   "cell_type": "code",
   "execution_count": 13,
   "metadata": {},
   "outputs": [
    {
     "data": {
      "text/plain": [
       "0       1.0\n",
       "1      13.0\n",
       "2       1.5\n",
       "3       1.5\n",
       "4       2.0\n",
       "       ... \n",
       "889     3.5\n",
       "890     3.0\n",
       "891     6.0\n",
       "892     3.0\n",
       "893     7.5\n",
       "Name: extras, Length: 894, dtype: float64"
      ]
     },
     "execution_count": 13,
     "metadata": {},
     "output_type": "execute_result"
    }
   ],
   "source": [
    "data_bersih"
   ]
  },
  {
   "cell_type": "code",
   "execution_count": 14,
   "metadata": {},
   "outputs": [
    {
     "name": "stdout",
     "output_type": "stream",
     "text": [
      "Nilai dari rata-rata data adalah: 3.5039149888143175\n",
      "Nilai dari median data adalah: 2.0\n",
      "Nilai dari modus data adalah: 1.0\n",
      "Nilai dari standar deviasi data adalah: 3.3329157386397616\n",
      "Nilai dari variansi data adalah: 11.108327320872629\n",
      "Nilai dari range data adalah: 14.0\n"
     ]
    }
   ],
   "source": [
    "print(\"Nilai dari rata-rata data adalah:\",data_bersih.mean())\n",
    "print(\"Nilai dari median data adalah:\",data_bersih.median())\n",
    "print(\"Nilai dari modus data adalah:\",data_bersih.mode()[0])\n",
    "print(\"Nilai dari standar deviasi data adalah:\",data_bersih.std())\n",
    "print(\"Nilai dari variansi data adalah:\",data_bersih.var())\n",
    "print(\"Nilai dari range data adalah:\",data_bersih.max() - data_bersih.min())"
   ]
  },
  {
   "cell_type": "markdown",
   "metadata": {},
   "source": [
    "- Terdapat penurunan jumlah data dari 1000 data menjadi 894 data sebesar 10.6 %. Hal ini tidak terlalu signifikan karena nilai persentase penurunan jumlah data masih dibawah 50%.\n",
    "- Terdapat penurunan nilai central of tendency dari data yang setelah dihilangkan outlier seperti nilai rata-rata, median, standar deviasi, variansi dan range. Tetapi untuk nilai modus tidak berubah."
   ]
  },
  {
   "cell_type": "markdown",
   "metadata": {},
   "source": [
    "Setelah melakukan penghapusan data outlier, kita perlu menguji apakah nilai rata-rata sebelum dihilangkan outlier sama dengan setelah dihilangkan outlier. Hipotesis nya adalah bahwa nilai rata-rata sebelum dan sesudah penghapusan outlier adalah sama, sedangkan saya percaya bahwa nilai rata-rata sebelum dan sesudah peghapusan outlier berbeda."
   ]
  },
  {
   "cell_type": "markdown",
   "metadata": {},
   "source": [
    "Hipotesis kita dalam kasus ini dinotasikan sebagai berikut:\n",
    "\n",
    "**H0: μ sebelum = μ sesudah**\n",
    "\n",
    "**H1: μ sebelum != μ sesudah**"
   ]
  },
  {
   "cell_type": "code",
   "execution_count": 19,
   "metadata": {},
   "outputs": [
    {
     "data": {
      "text/html": [
       "<div>\n",
       "<style scoped>\n",
       "    .dataframe tbody tr th:only-of-type {\n",
       "        vertical-align: middle;\n",
       "    }\n",
       "\n",
       "    .dataframe tbody tr th {\n",
       "        vertical-align: top;\n",
       "    }\n",
       "\n",
       "    .dataframe thead th {\n",
       "        text-align: right;\n",
       "    }\n",
       "</style>\n",
       "<table border=\"1\" class=\"dataframe\">\n",
       "  <thead>\n",
       "    <tr style=\"text-align: right;\">\n",
       "      <th></th>\n",
       "      <th>extras</th>\n",
       "    </tr>\n",
       "  </thead>\n",
       "  <tbody>\n",
       "    <tr>\n",
       "      <th>0</th>\n",
       "      <td>1.0</td>\n",
       "    </tr>\n",
       "    <tr>\n",
       "      <th>1</th>\n",
       "      <td>13.0</td>\n",
       "    </tr>\n",
       "    <tr>\n",
       "      <th>2</th>\n",
       "      <td>1.5</td>\n",
       "    </tr>\n",
       "    <tr>\n",
       "      <th>3</th>\n",
       "      <td>1.5</td>\n",
       "    </tr>\n",
       "    <tr>\n",
       "      <th>4</th>\n",
       "      <td>2.0</td>\n",
       "    </tr>\n",
       "    <tr>\n",
       "      <th>...</th>\n",
       "      <td>...</td>\n",
       "    </tr>\n",
       "    <tr>\n",
       "      <th>995</th>\n",
       "      <td>3.5</td>\n",
       "    </tr>\n",
       "    <tr>\n",
       "      <th>996</th>\n",
       "      <td>3.0</td>\n",
       "    </tr>\n",
       "    <tr>\n",
       "      <th>997</th>\n",
       "      <td>6.0</td>\n",
       "    </tr>\n",
       "    <tr>\n",
       "      <th>998</th>\n",
       "      <td>3.0</td>\n",
       "    </tr>\n",
       "    <tr>\n",
       "      <th>999</th>\n",
       "      <td>7.5</td>\n",
       "    </tr>\n",
       "  </tbody>\n",
       "</table>\n",
       "<p>1000 rows × 1 columns</p>\n",
       "</div>"
      ],
      "text/plain": [
       "     extras\n",
       "0       1.0\n",
       "1      13.0\n",
       "2       1.5\n",
       "3       1.5\n",
       "4       2.0\n",
       "..      ...\n",
       "995     3.5\n",
       "996     3.0\n",
       "997     6.0\n",
       "998     3.0\n",
       "999     7.5\n",
       "\n",
       "[1000 rows x 1 columns]"
      ]
     },
     "execution_count": 19,
     "metadata": {},
     "output_type": "execute_result"
    }
   ],
   "source": [
    "data_mentah2 = pd.read_csv(\"h8dsft_P0LC3_mnfakhri.csv.csv\")\n",
    "data_mentah2"
   ]
  },
  {
   "cell_type": "code",
   "execution_count": 20,
   "metadata": {},
   "outputs": [
    {
     "data": {
      "text/plain": [
       "0       1.0\n",
       "1      13.0\n",
       "2       1.5\n",
       "3       1.5\n",
       "4       2.0\n",
       "       ... \n",
       "995     3.5\n",
       "996     3.0\n",
       "997     6.0\n",
       "998     3.0\n",
       "999     7.5\n",
       "Name: extras, Length: 1000, dtype: float64"
      ]
     },
     "execution_count": 20,
     "metadata": {},
     "output_type": "execute_result"
    }
   ],
   "source": [
    "data_mentah2[\"extras\"]"
   ]
  },
  {
   "cell_type": "code",
   "execution_count": 22,
   "metadata": {},
   "outputs": [
    {
     "name": "stdout",
     "output_type": "stream",
     "text": [
      "Nilia dari rata-rata sebelum adalah: 5.5555\n",
      "Nilai dari standar deviasi sebelum adalah: 7.899814986873238\n",
      "Nilai dari rata-rata setelah adalah: 3.5039149888143175\n",
      "Nilai dari standar deviasi setelah adalah: 3.3329157386397616\n",
      "Nilai alfa yang digunakan adalah: 0.05\n",
      "Nilai dari P adalah: 7.928143675859847e-13\n",
      "Nilai dari t hitung adalah: 7.212181321920962\n"
     ]
    }
   ],
   "source": [
    "rata2_sebelum = data_mentah2[\"extras\"].mean()\n",
    "std_sebelum = data_mentah2[\"extras\"].std()\n",
    "rata2_setelah = data_bersih.mean()\n",
    "std_setelah = data_bersih.std()\n",
    "alfa = 0.05\n",
    "t_hitung,nilai_p = stats.ttest_ind(data_mentah2[\"extras\"],data_bersih)\n",
    "print(\"Nilia dari rata-rata sebelum adalah:\",rata2_sebelum)\n",
    "print(\"Nilai dari standar deviasi sebelum adalah:\",std_sebelum)\n",
    "print(\"Nilai dari rata-rata setelah adalah:\",rata2_setelah)\n",
    "print(\"Nilai dari standar deviasi setelah adalah:\",std_setelah)\n",
    "print(\"Nilai alfa yang digunakan adalah:\",alfa)\n",
    "print(\"Nilai dari P adalah:\",nilai_p)\n",
    "print(\"Nilai dari t hitung adalah:\",t_hitung)"
   ]
  },
  {
   "cell_type": "code",
   "execution_count": 23,
   "metadata": {},
   "outputs": [
    {
     "data": {
      "image/png": "[encoded data removed]",
      "text/plain": [
       "<Figure size 1440x576 with 1 Axes>"
      ]
     },
     "metadata": {
      "needs_background": "light"
     },
     "output_type": "display_data"
    }
   ],
   "source": [
    "data_sebelum_pop = np.random.normal(rata2_sebelum,std_sebelum,100000)\n",
    "data_setelah_pop = np.random.normal(rata2_setelah,std_setelah,100000)\n",
    "rata2_sebelum_pop = data_sebelum_pop.mean()\n",
    "std_sebelum_pop = data_sebelum_pop.std()\n",
    "nilai_ci = stats.norm.interval(0.95,rata2_sebelum,std_sebelum)\n",
    "\n",
    "plt.figure(figsize=(20,8))\n",
    "sns.histplot(data_sebelum_pop,kde=True,label=\"Data Populasi Sebelum\",color=\"blue\")\n",
    "sns.histplot(data_setelah_pop,kde=True,label=\"Data Populasi Setelah\",color=\"red\")\n",
    "plt.axvline(rata2_sebelum,color=\"blue\",linewidth=2,label=\"Rata-rata Sebelum\")\n",
    "plt.axvline(rata2_setelah,color=\"red\",linewidth=2,label=\"Rata-rata Setelah\")\n",
    "plt.axvline(nilai_ci[1],color=\"green\",linestyle=\"dashed\",linewidth=2,label=\"Confidence Threshold 95%\")\n",
    "plt.axvline(nilai_ci[0],color=\"green\",linestyle=\"dashed\",linewidth=2)\n",
    "plt.axvline(rata2_sebelum_pop+t_hitung*std_sebelum_pop,color=\"black\",linestyle=\"dashed\",linewidth=2,label=\"Hipotesis Alternatif\")\n",
    "plt.axvline(rata2_sebelum_pop-t_hitung*std_sebelum_pop,color=\"black\",linestyle=\"dashed\",linewidth=2)\n",
    "plt.legend()\n",
    "plt.show()"
   ]
  },
  {
   "cell_type": "markdown",
   "metadata": {},
   "source": [
    "Berdasarkan Hasil perhitungan tersebut Diperoleh hasil sebagai berikut : \n",
    "- Nilai P value dibahwa nilai alfa, hal ini menunjukan bahwa hipotesis awal (H0) ditolak\n",
    "- Dilihat dari grafik bahwa letak garis hitam (H1) berada diluar area garis hijau (H0), hal ini menunjukan bahwa hipotesis awal (H0) ditolak\n",
    "- Terdapat perbedaan signifikan antara data sebelum dihapus outlier dengan setelah dihapus outlier, yang memiliki arti bahwa nilai rata-rata sebelum dihapus outlier tidak sama dengan rata-rata setelah dihapus outlier"
   ]
  },
  {
   "cell_type": "markdown",
   "metadata": {},
   "source": [
    "# Pertanyaan Analisis"
   ]
  },
  {
   "cell_type": "markdown",
   "metadata": {},
   "source": [
    "1. Berapa rata-rata, median, dan modus dari data tersebut sebelum dihilangkan outliernya? Bagaimana kecerendungan pemusatan\n",
    "datanya? jelaskan jawabanmu!\n",
    "- Nilai dari rata-rata data adalah 5.5555\n",
    "- Nilai dari median data adalah 2.5\n",
    "- Nilai dari modus data adalah 1.0\n",
    "- Berdasarkan hasil perhitungan central of tendency diperoleh bahwa nilai rata-rata, median, modus memiliki nilai berbeda. Hal\n",
    "ini menunjukan bahwa data tersebut memiliki karakteristik persebaran nilai data yang bervariasi dan tidak terpusat. Hal ini \n",
    "bisa dilihat juga dari nilai dari standar deviasi yang lebih tinggi dari rata-rata. \n",
    "2. Sebelum melakukan extreme value analysis, kamu harus melakukan pengecekan skewness dari distribusi datanya. Apakah datanya\n",
    "skew atau normal? jelaskan jawabanmu!\n",
    "- Bersadarkan dari nilai skewness dan kurtosis dan melihat dari bentuk grafik, data tersebut tidak berdistribusi normal \n",
    "dikarenakan bentuk grafik data tersebut tidak menyerupai lonceng dalam artian bahwa persebaran data tersebut tidak terpusat di \n",
    "tengah.\n",
    "3. Ada dua teknik untuk melakukan extreme value analysis, teknik yang mana yang kamu pakai? berikan alasanmu berdasarkan data!\n",
    "- Teknik yang extreme value analysis yang digunakan dalam kasus ini adalah teknik EVA dengan data yang tidak terdistribusi normal. Hal ini dikarenakan data tersebut berjenis skew right, data tidak terpusat di nilai rata-rata dan bentuk grafik data tersebut tidak menyerupai lonceng.\n",
    "4. Ada berapa banyak data yang merupakan outlier? apakah cukup signifikan jumlahnya? (anggap bahwa jumlah signifikan lebih dari 50%). Jelaskan jawabanmu!\n",
    "- Terdapat penurunan jumlah data dari 1000 data menjadi 894 data sebesar 10.6 %. Hal ini tidak terlalu signifikan karena nilai persentase penurunan jumlah data masih dibawah 50%. Hal ini memiliki arti bahwa kehilangan jumlah data sebesar 10.6% tidak terlalu berpengaruh terdapat data keseluruhan.\n",
    "5. Setelah kamu menyingkirkan outlier dari data dan melakukan uji hipotesis, apakah ada perbedaan yang signifikan? jelaskan jawabanmu!\n",
    "- Berdasarkan uji hipotesis yang dilakukan, diperoleh hasil bahwa hipotesis awal (H0) ditolak. Maksud dari hal tersebut adalah bahwa nilai rata-rata sebelum dihapus data outlier itu berbeda dengan setelah dihapus data outlier. Maka terdapat perbedaan yang signifikan antara data yang sebelum dihapus outlier dengan data yang setelah dihapus outlier.\n",
    "6. Apa kesimpulan yang akan kamu bagikan kepada tim manajemen berkaitan dugaan mereka?\n",
    "- Kesimpulan dari hasil eksplorasi data dan analisis data tersebut adalah bahwa terdapat ketidakwajaran pada biaya layanan ekstra yang dibebankan kepada pelanggan. Hal ini dapat dilihat dari nilai central of tendency data sebelum diolah dimana terdapat variasi data yang sangat jauh, nilai central of tendency data dimana terdapat perbedaan sebelum dan setelah dihapus data outlier, dan hasil uji hipotesis yang menyatakan bahwa terdapat perbedaan signifikan data ketika setelah dihapus nilai outlier."
   ]
  }
 ],
 "metadata": {
  "kernelspec": {
   "display_name": "Python 3.9.12 ('base')",
   "language": "python",
   "name": "python3"
  },
  "language_info": {
   "codemirror_mode": {
    "name": "ipython",
    "version": 3
   },
   "file_extension": ".py",
   "mimetype": "text/x-python",
   "name": "python",
   "nbconvert_exporter": "python",
   "pygments_lexer": "ipython3",
   "version": "3.9.12"
  },
  "orig_nbformat": 4,
  "vscode": {
   "interpreter": {
    "hash": "a90aeebcf29d64a654773811cc170cb25061cb2498f10ac689db374c7bf325de"
   }
  }
 },
 "nbformat": 4,
 "nbformat_minor": 2
}
